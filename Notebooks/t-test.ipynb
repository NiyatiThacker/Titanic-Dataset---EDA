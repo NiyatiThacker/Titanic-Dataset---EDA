{
 "cells": [
  {
   "cell_type": "code",
   "execution_count": 1,
   "id": "2d9f870b",
   "metadata": {},
   "outputs": [
    {
     "name": "stdout",
     "output_type": "stream",
     "text": [
      "T-statistic: 7.08642484814576\n",
      "p-value: 7.095141250070963e-12\n"
     ]
    }
   ],
   "source": [
    "import pandas as pd\n",
    "df = pd.read_csv(\"Titanic_cleaned_no_outliers.csv\")\n",
    "from scipy.stats import ttest_ind\n",
    "\n",
    "# Separate fare values based on survival\n",
    "fare_survived = df[df['Survived'] == 1]['Fare']\n",
    "fare_not_survived = df[df['Survived'] == 0]['Fare']\n",
    "\n",
    "# Perform t-test\n",
    "t_stat, p_value = ttest_ind(fare_survived, fare_not_survived, equal_var=False)\n",
    "print(\"T-statistic:\", t_stat)\n",
    "print(\"p-value:\", p_value)\n"
   ]
  },
  {
   "cell_type": "code",
   "execution_count": 2,
   "id": "075d6107",
   "metadata": {},
   "outputs": [
    {
     "name": "stdout",
     "output_type": "stream",
     "text": [
      "T-statistic: -2.451823883787342\n",
      "p-value: 0.01465058197875916\n"
     ]
    }
   ],
   "source": [
    "# Separate age values based on survival\n",
    "age_survived = df[df['Survived'] == 1]['Age']\n",
    "age_not_survived = df[df['Survived'] == 0]['Age']\n",
    "\n",
    "# Perform t-test\n",
    "t_stat, p_value = ttest_ind(age_survived, age_not_survived, equal_var=False)\n",
    "print(\"T-statistic:\", t_stat)\n",
    "print(\"p-value:\", p_value)\n"
   ]
  }
 ],
 "metadata": {
  "kernelspec": {
   "display_name": "Python 3",
   "language": "python",
   "name": "python3"
  },
  "language_info": {
   "codemirror_mode": {
    "name": "ipython",
    "version": 3
   },
   "file_extension": ".py",
   "mimetype": "text/x-python",
   "name": "python",
   "nbconvert_exporter": "python",
   "pygments_lexer": "ipython3",
   "version": "3.12.9"
  }
 },
 "nbformat": 4,
 "nbformat_minor": 5
}
