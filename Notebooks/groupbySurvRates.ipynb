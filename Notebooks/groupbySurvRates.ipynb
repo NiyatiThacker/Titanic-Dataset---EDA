{
 "cells": [
  {
   "cell_type": "code",
   "execution_count": 1,
   "id": "476677a7",
   "metadata": {},
   "outputs": [
    {
     "data": {
      "text/plain": [
       "Pclass\n",
       "1    0.563830\n",
       "2    0.465839\n",
       "3    0.246544\n",
       "Name: Survived, dtype: float64"
      ]
     },
     "execution_count": 1,
     "metadata": {},
     "output_type": "execute_result"
    }
   ],
   "source": [
    "import pandas as pd\n",
    "df = pd.read_csv(\"Titanic_cleaned_no_outliers.csv\")\n",
    "df.groupby('Pclass')['Survived'].mean().sort_index()\n"
   ]
  },
  {
   "cell_type": "code",
   "execution_count": 2,
   "id": "3d5c300e",
   "metadata": {},
   "outputs": [
    {
     "data": {
      "text/plain": [
       "SibSp\n",
       "0    0.308285\n",
       "1    0.447368\n",
       "2    0.388889\n",
       "Name: Survived, dtype: float64"
      ]
     },
     "execution_count": 2,
     "metadata": {},
     "output_type": "execute_result"
    }
   ],
   "source": [
    "import pandas as pd\n",
    "df = pd.read_csv(\"Titanic_cleaned_no_outliers.csv\")\n",
    "df.groupby('SibSp')['Survived'].mean().sort_index()\n"
   ]
  },
  {
   "cell_type": "code",
   "execution_count": 3,
   "id": "6b536b58",
   "metadata": {},
   "outputs": [
    {
     "data": {
      "text/plain": [
       "Parch\n",
       "0    0.299827\n",
       "1    0.602941\n",
       "2    0.566667\n",
       "3    0.600000\n",
       "4    0.000000\n",
       "5    0.200000\n",
       "6    0.000000\n",
       "Name: Survived, dtype: float64"
      ]
     },
     "execution_count": 3,
     "metadata": {},
     "output_type": "execute_result"
    }
   ],
   "source": [
    "df.groupby('Parch')['Survived'].mean().sort_index()\n"
   ]
  }
 ],
 "metadata": {
  "kernelspec": {
   "display_name": "Python 3",
   "language": "python",
   "name": "python3"
  },
  "language_info": {
   "codemirror_mode": {
    "name": "ipython",
    "version": 3
   },
   "file_extension": ".py",
   "mimetype": "text/x-python",
   "name": "python",
   "nbconvert_exporter": "python",
   "pygments_lexer": "ipython3",
   "version": "3.12.9"
  }
 },
 "nbformat": 4,
 "nbformat_minor": 5
}
