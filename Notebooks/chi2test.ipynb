{
 "cells": [
  {
   "cell_type": "code",
   "execution_count": 1,
   "id": "d0fe4cb0",
   "metadata": {},
   "outputs": [
    {
     "name": "stdout",
     "output_type": "stream",
     "text": [
      "Chi-square Statistic: 49.16139518540436\n",
      "p-value: 2.1122176832056102e-11\n"
     ]
    }
   ],
   "source": [
    "import pandas as pd\n",
    "df = pd.read_csv(\"Titanic_cleaned_no_outliers.csv\")\n",
    "from scipy.stats import chi2_contingency\n",
    "\n",
    "#  a contingency table\n",
    "contingency_pclass = pd.crosstab(df['Pclass'], df['Survived'])\n",
    "\n",
    "#  Chi-Square test\n",
    "chi2, p, dof, expected = chi2_contingency(contingency_pclass)\n",
    "\n",
    "#  results\n",
    "print(\"Chi-square Statistic:\", chi2)\n",
    "print(\"p-value:\", p)\n"
   ]
  },
  {
   "cell_type": "code",
   "execution_count": 2,
   "id": "34a29acd",
   "metadata": {},
   "outputs": [
    {
     "name": "stdout",
     "output_type": "stream",
     "text": [
      "Chi-square Statistic: 10.307378190775609\n",
      "p-value: 0.005778049584410326\n"
     ]
    }
   ],
   "source": [
    "# Chi-square test for SibSp vs Survived\n",
    "contingency_sibsp = pd.crosstab(df['SibSp'], df['Survived'])\n",
    "chi2, p, dof, expected = chi2_contingency(contingency_sibsp)\n",
    "\n",
    "print(\"Chi-square Statistic:\", chi2)\n",
    "print(\"p-value:\", p)\n"
   ]
  },
  {
   "cell_type": "code",
   "execution_count": 3,
   "id": "42087432",
   "metadata": {},
   "outputs": [
    {
     "name": "stdout",
     "output_type": "stream",
     "text": [
      "Chi-square Statistic: 35.91462647277851\n",
      "p-value: 2.8639689530544028e-06\n"
     ]
    }
   ],
   "source": [
    "# Chi-square test for Parch vs Survived\n",
    "contingency_parch = pd.crosstab(df['Parch'], df['Survived'])\n",
    "chi2, p, dof, expected = chi2_contingency(contingency_parch)\n",
    "\n",
    "print(\"Chi-square Statistic:\", chi2)\n",
    "print(\"p-value:\", p)\n"
   ]
  }
 ],
 "metadata": {
  "kernelspec": {
   "display_name": "Python 3",
   "language": "python",
   "name": "python3"
  },
  "language_info": {
   "codemirror_mode": {
    "name": "ipython",
    "version": 3
   },
   "file_extension": ".py",
   "mimetype": "text/x-python",
   "name": "python",
   "nbconvert_exporter": "python",
   "pygments_lexer": "ipython3",
   "version": "3.12.9"
  }
 },
 "nbformat": 4,
 "nbformat_minor": 5
}
